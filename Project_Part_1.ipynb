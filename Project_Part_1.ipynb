{
 "cells": [
  {
   "cell_type": "markdown",
   "id": "048f0d22",
   "metadata": {
    "papermill": {
     "duration": 0.00343,
     "end_time": "2022-11-02T03:07:50.167491",
     "exception": false,
     "start_time": "2022-11-02T03:07:50.164061",
     "status": "completed"
    },
    "tags": []
   },
   "source": [
    "# Project Part 1\n",
    "\n",
    "[![Kaggle](https://kaggle.com/static/images/open-in-kaggle.svg)](https://kaggle.com/kernels/welcome?src=https://github.com/sgeinitz/cs39aa_project/blob/main/project_part1.ipynb)\n",
    "\n",
    "[![Open In Colab](https://colab.research.google.com/assets/colab-badge.svg)](https://colab.research.google.com/github/sgeinitz/cs39aa_project/blob/main/project_part1.ipynb)\n"
   ]
  },
  {
   "cell_type": "markdown",
   "id": "2718138f",
   "metadata": {
    "papermill": {
     "duration": 0.002365,
     "end_time": "2022-11-02T03:07:50.172728",
     "exception": false,
     "start_time": "2022-11-02T03:07:50.170363",
     "status": "completed"
    },
    "tags": []
   },
   "source": [
    "## Introduction/Background\n",
    "\n",
    "For this project I will be a dataset that contains job titles and their descriptions in an attempt to predict fake jobs. This data contains 18K job descriptions with 800 of those jobs being fake. I will be looking at the descriptions to figure out patterns in the words themselves to find what makes a fake job description fake. due to that nature this data set will be a text classification problem with the lables being binary, either real or fake.\n"
   ]
  },
  {
   "cell_type": "markdown",
   "id": "9f142b0d",
   "metadata": {
    "papermill": {
     "duration": 0.002338,
     "end_time": "2022-11-02T03:07:50.177679",
     "exception": false,
     "start_time": "2022-11-02T03:07:50.175341",
     "status": "completed"
    },
    "tags": []
   },
   "source": [
    "## Exploratory Data Analysis\n",
    "\n",
    "Here are some Exploratory Analysis that was done. In this Data check I wanted to find what the stopwords that each description contained and the average word count for each description (incase I need to add more fake jobs to the data myself)\n"
   ]
  },
  {
   "cell_type": "code",
   "execution_count": 1,
   "id": "0388e428",
   "metadata": {
    "execution": {
     "iopub.execute_input": "2022-11-02T03:07:50.184823Z",
     "iopub.status.busy": "2022-11-02T03:07:50.184271Z",
     "iopub.status.idle": "2022-11-02T03:07:51.668770Z",
     "shell.execute_reply": "2022-11-02T03:07:51.667832Z"
    },
    "papermill": {
     "duration": 1.490931,
     "end_time": "2022-11-02T03:07:51.671238",
     "exception": false,
     "start_time": "2022-11-02T03:07:50.180307",
     "status": "completed"
    },
    "tags": []
   },
   "outputs": [],
   "source": [
    "# import all of the python modules/packages you'll need here\n",
    "import pandas as pd\n",
    "import numpy as np\n",
    "import matplotlib.pyplot as plt\n",
    "import nltk \n",
    "from collections import Counter\n",
    "from nltk.tokenize import RegexpTokenizer \n",
    "# ..."
   ]
  },
  {
   "cell_type": "code",
   "execution_count": 2,
   "id": "8372bd92",
   "metadata": {
    "execution": {
     "iopub.execute_input": "2022-11-02T03:07:51.679743Z",
     "iopub.status.busy": "2022-11-02T03:07:51.679117Z",
     "iopub.status.idle": "2022-11-02T03:07:52.667811Z",
     "shell.execute_reply": "2022-11-02T03:07:52.666620Z"
    },
    "papermill": {
     "duration": 0.994893,
     "end_time": "2022-11-02T03:07:52.670049",
     "exception": false,
     "start_time": "2022-11-02T03:07:51.675156",
     "status": "completed"
    },
    "tags": []
   },
   "outputs": [
    {
     "data": {
      "text/html": [
       "<div>\n",
       "<style scoped>\n",
       "    .dataframe tbody tr th:only-of-type {\n",
       "        vertical-align: middle;\n",
       "    }\n",
       "\n",
       "    .dataframe tbody tr th {\n",
       "        vertical-align: top;\n",
       "    }\n",
       "\n",
       "    .dataframe thead th {\n",
       "        text-align: right;\n",
       "    }\n",
       "</style>\n",
       "<table border=\"1\" class=\"dataframe\">\n",
       "  <thead>\n",
       "    <tr style=\"text-align: right;\">\n",
       "      <th></th>\n",
       "      <th>title</th>\n",
       "      <th>description</th>\n",
       "      <th>fraudulent</th>\n",
       "    </tr>\n",
       "  </thead>\n",
       "  <tbody>\n",
       "    <tr>\n",
       "      <th>0</th>\n",
       "      <td>Marketing Intern</td>\n",
       "      <td>Food52, a fast-growing, James Beard Award-winn...</td>\n",
       "      <td>0</td>\n",
       "    </tr>\n",
       "    <tr>\n",
       "      <th>1</th>\n",
       "      <td>Customer Service - Cloud Video Production</td>\n",
       "      <td>Organised - Focused - Vibrant - Awesome!Do you...</td>\n",
       "      <td>0</td>\n",
       "    </tr>\n",
       "    <tr>\n",
       "      <th>2</th>\n",
       "      <td>Commissioning Machinery Assistant (CMA)</td>\n",
       "      <td>Our client, located in Houston, is actively se...</td>\n",
       "      <td>0</td>\n",
       "    </tr>\n",
       "    <tr>\n",
       "      <th>3</th>\n",
       "      <td>Account Executive - Washington DC</td>\n",
       "      <td>THE COMPANY: ESRI – Environmental Systems Rese...</td>\n",
       "      <td>0</td>\n",
       "    </tr>\n",
       "    <tr>\n",
       "      <th>4</th>\n",
       "      <td>Bill Review Manager</td>\n",
       "      <td>JOB TITLE: Itemization Review ManagerLOCATION:...</td>\n",
       "      <td>0</td>\n",
       "    </tr>\n",
       "    <tr>\n",
       "      <th>...</th>\n",
       "      <td>...</td>\n",
       "      <td>...</td>\n",
       "      <td>...</td>\n",
       "    </tr>\n",
       "    <tr>\n",
       "      <th>17875</th>\n",
       "      <td>Account Director - Distribution</td>\n",
       "      <td>Just in case this is the first time you’ve vis...</td>\n",
       "      <td>0</td>\n",
       "    </tr>\n",
       "    <tr>\n",
       "      <th>17876</th>\n",
       "      <td>Payroll Accountant</td>\n",
       "      <td>The Payroll Accountant will focus primarily on...</td>\n",
       "      <td>0</td>\n",
       "    </tr>\n",
       "    <tr>\n",
       "      <th>17877</th>\n",
       "      <td>Project Cost Control Staff Engineer - Cost Con...</td>\n",
       "      <td>Experienced Project Cost Control Staff Enginee...</td>\n",
       "      <td>0</td>\n",
       "    </tr>\n",
       "    <tr>\n",
       "      <th>17878</th>\n",
       "      <td>Graphic Designer</td>\n",
       "      <td>Nemsia Studios is looking for an experienced v...</td>\n",
       "      <td>0</td>\n",
       "    </tr>\n",
       "    <tr>\n",
       "      <th>17879</th>\n",
       "      <td>Web Application Developers</td>\n",
       "      <td>Who are we?Vend is an award winning web based ...</td>\n",
       "      <td>0</td>\n",
       "    </tr>\n",
       "  </tbody>\n",
       "</table>\n",
       "<p>17880 rows × 3 columns</p>\n",
       "</div>"
      ],
      "text/plain": [
       "                                                   title  \\\n",
       "0                                       Marketing Intern   \n",
       "1              Customer Service - Cloud Video Production   \n",
       "2                Commissioning Machinery Assistant (CMA)   \n",
       "3                      Account Executive - Washington DC   \n",
       "4                                    Bill Review Manager   \n",
       "...                                                  ...   \n",
       "17875                   Account Director - Distribution    \n",
       "17876                                 Payroll Accountant   \n",
       "17877  Project Cost Control Staff Engineer - Cost Con...   \n",
       "17878                                   Graphic Designer   \n",
       "17879                         Web Application Developers   \n",
       "\n",
       "                                             description  fraudulent  \n",
       "0      Food52, a fast-growing, James Beard Award-winn...           0  \n",
       "1      Organised - Focused - Vibrant - Awesome!Do you...           0  \n",
       "2      Our client, located in Houston, is actively se...           0  \n",
       "3      THE COMPANY: ESRI – Environmental Systems Rese...           0  \n",
       "4      JOB TITLE: Itemization Review ManagerLOCATION:...           0  \n",
       "...                                                  ...         ...  \n",
       "17875  Just in case this is the first time you’ve vis...           0  \n",
       "17876  The Payroll Accountant will focus primarily on...           0  \n",
       "17877  Experienced Project Cost Control Staff Enginee...           0  \n",
       "17878  Nemsia Studios is looking for an experienced v...           0  \n",
       "17879  Who are we?Vend is an award winning web based ...           0  \n",
       "\n",
       "[17880 rows x 3 columns]"
      ]
     },
     "execution_count": 2,
     "metadata": {},
     "output_type": "execute_result"
    }
   ],
   "source": [
    "df = pd.read_csv('../input/real-or-fake-jobs/fake_job_postings.csv', usecols=['title','description','fraudulent'])\n",
    "df"
   ]
  },
  {
   "cell_type": "code",
   "execution_count": 3,
   "id": "688044eb",
   "metadata": {
    "execution": {
     "iopub.execute_input": "2022-11-02T03:07:52.678740Z",
     "iopub.status.busy": "2022-11-02T03:07:52.677242Z",
     "iopub.status.idle": "2022-11-02T03:07:52.867309Z",
     "shell.execute_reply": "2022-11-02T03:07:52.865968Z"
    },
    "papermill": {
     "duration": 0.196311,
     "end_time": "2022-11-02T03:07:52.869552",
     "exception": false,
     "start_time": "2022-11-02T03:07:52.673241",
     "status": "completed"
    },
    "tags": []
   },
   "outputs": [
    {
     "data": {
      "text/plain": [
       "<AxesSubplot:>"
      ]
     },
     "execution_count": 3,
     "metadata": {},
     "output_type": "execute_result"
    },
    {
     "data": {
      "image/png": "[encoded data removed]",
      "text/plain": [
       "<Figure size 432x288 with 1 Axes>"
      ]
     },
     "metadata": {
      "needs_background": "light"
     },
     "output_type": "display_data"
    }
   ],
   "source": [
    "df['fraudulent'].value_counts().sort_values().plot(kind = 'barh')"
   ]
  },
  {
   "cell_type": "code",
   "execution_count": 4,
   "id": "722efa69",
   "metadata": {
    "execution": {
     "iopub.execute_input": "2022-11-02T03:07:52.879624Z",
     "iopub.status.busy": "2022-11-02T03:07:52.878537Z",
     "iopub.status.idle": "2022-11-02T03:07:52.902233Z",
     "shell.execute_reply": "2022-11-02T03:07:52.901345Z"
    },
    "papermill": {
     "duration": 0.031337,
     "end_time": "2022-11-02T03:07:52.904287",
     "exception": false,
     "start_time": "2022-11-02T03:07:52.872950",
     "status": "completed"
    },
    "tags": []
   },
   "outputs": [
    {
     "data": {
      "text/html": [
       "<div>\n",
       "<style scoped>\n",
       "    .dataframe tbody tr th:only-of-type {\n",
       "        vertical-align: middle;\n",
       "    }\n",
       "\n",
       "    .dataframe tbody tr th {\n",
       "        vertical-align: top;\n",
       "    }\n",
       "\n",
       "    .dataframe thead th {\n",
       "        text-align: right;\n",
       "    }\n",
       "</style>\n",
       "<table border=\"1\" class=\"dataframe\">\n",
       "  <thead>\n",
       "    <tr style=\"text-align: right;\">\n",
       "      <th></th>\n",
       "      <th>title</th>\n",
       "      <th>description</th>\n",
       "      <th>fraudulent</th>\n",
       "    </tr>\n",
       "  </thead>\n",
       "  <tbody>\n",
       "    <tr>\n",
       "      <th>3030</th>\n",
       "      <td>mobile apps for Android/iOS developer</td>\n",
       "      <td>#NAME?</td>\n",
       "      <td>0</td>\n",
       "    </tr>\n",
       "    <tr>\n",
       "      <th>3951</th>\n",
       "      <td>Senior  Java Developer with Hadoop Exp</td>\n",
       "      <td>#NAME?</td>\n",
       "      <td>0</td>\n",
       "    </tr>\n",
       "    <tr>\n",
       "      <th>4184</th>\n",
       "      <td>Senior Architect / Technician</td>\n",
       "      <td>#NAME?</td>\n",
       "      <td>0</td>\n",
       "    </tr>\n",
       "    <tr>\n",
       "      <th>7612</th>\n",
       "      <td>Mobile Marketing Specialist</td>\n",
       "      <td>#NAME?</td>\n",
       "      <td>0</td>\n",
       "    </tr>\n",
       "    <tr>\n",
       "      <th>11893</th>\n",
       "      <td>Junior Specialist - Seed Production and Harvest</td>\n",
       "      <td>#NAME?</td>\n",
       "      <td>0</td>\n",
       "    </tr>\n",
       "    <tr>\n",
       "      <th>12189</th>\n",
       "      <td>Researcher - Nutrient and Crop Management</td>\n",
       "      <td>#NAME?</td>\n",
       "      <td>0</td>\n",
       "    </tr>\n",
       "    <tr>\n",
       "      <th>13529</th>\n",
       "      <td>Full-time Web Developer</td>\n",
       "      <td>#NAME?</td>\n",
       "      <td>0</td>\n",
       "    </tr>\n",
       "    <tr>\n",
       "      <th>16690</th>\n",
       "      <td>Marketing Lead</td>\n",
       "      <td>#NAME?</td>\n",
       "      <td>0</td>\n",
       "    </tr>\n",
       "  </tbody>\n",
       "</table>\n",
       "</div>"
      ],
      "text/plain": [
       "                                                  title description  \\\n",
       "3030              mobile apps for Android/iOS developer      #NAME?   \n",
       "3951             Senior  Java Developer with Hadoop Exp      #NAME?   \n",
       "4184                      Senior Architect / Technician      #NAME?   \n",
       "7612                        Mobile Marketing Specialist      #NAME?   \n",
       "11893  Junior Specialist - Seed Production and Harvest       #NAME?   \n",
       "12189        Researcher - Nutrient and Crop Management       #NAME?   \n",
       "13529                           Full-time Web Developer      #NAME?   \n",
       "16690                                    Marketing Lead      #NAME?   \n",
       "\n",
       "       fraudulent  \n",
       "3030            0  \n",
       "3951            0  \n",
       "4184            0  \n",
       "7612            0  \n",
       "11893           0  \n",
       "12189           0  \n",
       "13529           0  \n",
       "16690           0  "
      ]
     },
     "execution_count": 4,
     "metadata": {},
     "output_type": "execute_result"
    }
   ],
   "source": [
    "df.dropna(inplace=True)\n",
    "df[df['description'].apply(len)<9]"
   ]
  },
  {
   "cell_type": "code",
   "execution_count": 5,
   "id": "b2efe068",
   "metadata": {
    "execution": {
     "iopub.execute_input": "2022-11-02T03:07:52.913797Z",
     "iopub.status.busy": "2022-11-02T03:07:52.913337Z",
     "iopub.status.idle": "2022-11-02T03:07:53.106000Z",
     "shell.execute_reply": "2022-11-02T03:07:53.104913Z"
    },
    "papermill": {
     "duration": 0.200383,
     "end_time": "2022-11-02T03:07:53.108434",
     "exception": false,
     "start_time": "2022-11-02T03:07:52.908051",
     "status": "completed"
    },
    "tags": []
   },
   "outputs": [
    {
     "data": {
      "text/html": [
       "<div>\n",
       "<style scoped>\n",
       "    .dataframe tbody tr th:only-of-type {\n",
       "        vertical-align: middle;\n",
       "    }\n",
       "\n",
       "    .dataframe tbody tr th {\n",
       "        vertical-align: top;\n",
       "    }\n",
       "\n",
       "    .dataframe thead th {\n",
       "        text-align: right;\n",
       "    }\n",
       "</style>\n",
       "<table border=\"1\" class=\"dataframe\">\n",
       "  <thead>\n",
       "    <tr style=\"text-align: right;\">\n",
       "      <th></th>\n",
       "      <th>title</th>\n",
       "      <th>description</th>\n",
       "      <th>fraudulent</th>\n",
       "      <th>wordcount</th>\n",
       "    </tr>\n",
       "  </thead>\n",
       "  <tbody>\n",
       "    <tr>\n",
       "      <th>0</th>\n",
       "      <td>Marketing Intern</td>\n",
       "      <td>Food52, a fast-growing, James Beard Award-winn...</td>\n",
       "      <td>0</td>\n",
       "      <td>124</td>\n",
       "    </tr>\n",
       "    <tr>\n",
       "      <th>1</th>\n",
       "      <td>Customer Service - Cloud Video Production</td>\n",
       "      <td>Organised - Focused - Vibrant - Awesome!Do you...</td>\n",
       "      <td>0</td>\n",
       "      <td>315</td>\n",
       "    </tr>\n",
       "    <tr>\n",
       "      <th>2</th>\n",
       "      <td>Commissioning Machinery Assistant (CMA)</td>\n",
       "      <td>Our client, located in Houston, is actively se...</td>\n",
       "      <td>0</td>\n",
       "      <td>50</td>\n",
       "    </tr>\n",
       "    <tr>\n",
       "      <th>3</th>\n",
       "      <td>Account Executive - Washington DC</td>\n",
       "      <td>THE COMPANY: ESRI – Environmental Systems Rese...</td>\n",
       "      <td>0</td>\n",
       "      <td>346</td>\n",
       "    </tr>\n",
       "    <tr>\n",
       "      <th>4</th>\n",
       "      <td>Bill Review Manager</td>\n",
       "      <td>JOB TITLE: Itemization Review ManagerLOCATION:...</td>\n",
       "      <td>0</td>\n",
       "      <td>168</td>\n",
       "    </tr>\n",
       "  </tbody>\n",
       "</table>\n",
       "</div>"
      ],
      "text/plain": [
       "                                       title  \\\n",
       "0                           Marketing Intern   \n",
       "1  Customer Service - Cloud Video Production   \n",
       "2    Commissioning Machinery Assistant (CMA)   \n",
       "3          Account Executive - Washington DC   \n",
       "4                        Bill Review Manager   \n",
       "\n",
       "                                         description  fraudulent  wordcount  \n",
       "0  Food52, a fast-growing, James Beard Award-winn...           0        124  \n",
       "1  Organised - Focused - Vibrant - Awesome!Do you...           0        315  \n",
       "2  Our client, located in Houston, is actively se...           0         50  \n",
       "3  THE COMPANY: ESRI – Environmental Systems Rese...           0        346  \n",
       "4  JOB TITLE: Itemization Review ManagerLOCATION:...           0        168  "
      ]
     },
     "execution_count": 5,
     "metadata": {},
     "output_type": "execute_result"
    }
   ],
   "source": [
    "df['wordcount'] = df.description.apply(lambda x: len(x.split()))\n",
    "df.head()"
   ]
  },
  {
   "cell_type": "code",
   "execution_count": 6,
   "id": "9ebb444c",
   "metadata": {
    "execution": {
     "iopub.execute_input": "2022-11-02T03:07:53.117603Z",
     "iopub.status.busy": "2022-11-02T03:07:53.117263Z",
     "iopub.status.idle": "2022-11-02T03:07:53.436374Z",
     "shell.execute_reply": "2022-11-02T03:07:53.435277Z"
    },
    "papermill": {
     "duration": 0.326291,
     "end_time": "2022-11-02T03:07:53.438527",
     "exception": false,
     "start_time": "2022-11-02T03:07:53.112236",
     "status": "completed"
    },
    "tags": []
   },
   "outputs": [
    {
     "data": {
      "image/png": "[encoded data removed]",
      "text/plain": [
       "<Figure size 1080x360 with 1 Axes>"
      ]
     },
     "metadata": {
      "needs_background": "light"
     },
     "output_type": "display_data"
    }
   ],
   "source": [
    "avg_pos = df[df.fraudulent ==1].description.apply(lambda x: len(x.split())).mean()\n",
    "avg_neg = df[df.fraudulent ==0].description.apply(lambda x: len(x.split())).mean()\n",
    "\n",
    "plt.figure(figsize=(15,5))\n",
    "plt.barh(['Positive', 'Negative'], [avg_pos,avg_neg])\n",
    "plt.xlabel('Average Number of words', fontsize=12)\n",
    "plt.ylabel('Fake', fontsize=12)\n",
    "plt.title('Average word count of Fake/Real', fontsize=15)\n",
    "plt.show()"
   ]
  },
  {
   "cell_type": "code",
   "execution_count": 7,
   "id": "babb7245",
   "metadata": {
    "execution": {
     "iopub.execute_input": "2022-11-02T03:07:53.448417Z",
     "iopub.status.busy": "2022-11-02T03:07:53.447515Z",
     "iopub.status.idle": "2022-11-02T03:07:54.302381Z",
     "shell.execute_reply": "2022-11-02T03:07:54.301311Z"
    },
    "papermill": {
     "duration": 0.862598,
     "end_time": "2022-11-02T03:07:54.305274",
     "exception": false,
     "start_time": "2022-11-02T03:07:53.442676",
     "status": "completed"
    },
    "tags": []
   },
   "outputs": [
    {
     "data": {
      "text/plain": [
       "[('and', 174343),\n",
       " ('to', 95597),\n",
       " ('the', 88957),\n",
       " ('of', 67291),\n",
       " ('a', 61705),\n",
       " ('in', 52027),\n",
       " ('for', 45884),\n",
       " ('with', 40483),\n",
       " ('is', 28663),\n",
       " ('our', 27334),\n",
       " ('are', 22412),\n",
       " ('will', 22207),\n",
       " ('be', 20900),\n",
       " ('on', 18442),\n",
       " ('as', 18097),\n",
       " ('you', 18027),\n",
       " ('an', 14395),\n",
       " ('that', 14311),\n",
       " ('team', 12635),\n",
       " ('work', 12265)]"
      ]
     },
     "execution_count": 7,
     "metadata": {},
     "output_type": "execute_result"
    }
   ],
   "source": [
    "stpwrd = Counter(\" \".join(df[\"description\"]).split()).most_common(20)\n",
    "stpwrd"
   ]
  }
 ],
 "metadata": {
  "kernelspec": {
   "display_name": "Python 3",
   "language": "python",
   "name": "python3"
  },
  "language_info": {
   "codemirror_mode": {
    "name": "ipython",
    "version": 3
   },
   "file_extension": ".py",
   "mimetype": "text/x-python",
   "name": "python",
   "nbconvert_exporter": "python",
   "pygments_lexer": "ipython3",
   "version": "3.7.12"
  },
  "papermill": {
   "default_parameters": {},
   "duration": 12.281401,
   "end_time": "2022-11-02T03:07:55.130839",
   "environment_variables": {},
   "exception": null,
   "input_path": "__notebook__.ipynb",
   "output_path": "__notebook__.ipynb",
   "parameters": {},
   "start_time": "2022-11-02T03:07:42.849438",
   "version": "2.3.4"
  }
 },
 "nbformat": 4,
 "nbformat_minor": 5
}
