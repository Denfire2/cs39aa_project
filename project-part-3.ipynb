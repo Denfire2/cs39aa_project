{
 "cells": [
  {
   "cell_type": "markdown",
   "id": "7215c404",
   "metadata": {
    "papermill": {
     "duration": 0.003737,
     "end_time": "2022-12-03T20:55:36.627684",
     "exception": false,
     "start_time": "2022-12-03T20:55:36.623947",
     "status": "completed"
    },
    "tags": []
   },
   "source": [
    "# Project Part 3\n",
    "\n",
    "[![Kaggle](https://kaggle.com/static/images/open-in-kaggle.svg)](https://kaggle.com/kernels/welcome?src=https://github.com/sgeinitz/cs39aa_project/blob/main/project_part2.ipynb)\n",
    "\n",
    "[![Open In Colab](https://colab.research.google.com/assets/colab-badge.svg)](https://colab.research.google.com/github/sgeinitz/cs39aa_project/blob/main/project_part2.ipynb)"
   ]
  },
  {
   "cell_type": "markdown",
   "id": "8dd3cd22",
   "metadata": {
    "papermill": {
     "duration": 0.002162,
     "end_time": "2022-12-03T20:55:36.632745",
     "exception": false,
     "start_time": "2022-12-03T20:55:36.630583",
     "status": "completed"
    },
    "tags": []
   },
   "source": [
    "Project Part 3: A Deep Learning Model\n",
    "In this third and final part of the project you will train a deep learning model on your dataset. Note that the best way to do this will likely be to fine-tune an existing deep learning model such as GPT-2, BERT, etc. This is the same as what you will do in Assign 5, except that rather than using the Airline Tweet dataset you will be using your own dataset. Note that it is also possible to train a deep learning model from scratch with either PyTorch or TensorFlow/Keras, but that in the real world it will be more likely that you will want to leverage the cutting edge performance of a pre-trained deep learning model such as those available through huggingface. \n",
    "\n",
    "As with Parts 1 and 2, this should be done in a Jupyter notebook and you should add the notebook to the repository where Assign 1 and 2 are. When you are done, you will then get the URL of your project_part3.ipynb notebook in your GitHub repository, and submit that URL here in Canvas."
   ]
  },
  {
   "cell_type": "code",
   "execution_count": null,
   "id": "5f73d204",
   "metadata": {
    "execution": {
     "iopub.execute_input": "2022-11-19T06:58:18.682121Z",
     "iopub.status.busy": "2022-11-19T06:58:18.681604Z",
     "iopub.status.idle": "2022-11-19T06:58:19.839363Z",
     "shell.execute_reply": "2022-11-19T06:58:19.838145Z",
     "shell.execute_reply.started": "2022-11-19T06:58:18.682019Z"
    },
    "papermill": {
     "duration": 0.003232,
     "end_time": "2022-12-03T20:55:36.638988",
     "exception": false,
     "start_time": "2022-12-03T20:55:36.635756",
     "status": "completed"
    },
    "tags": []
   },
   "outputs": [],
   "source": []
  },
  {
   "cell_type": "code",
   "execution_count": null,
   "id": "19df0694",
   "metadata": {
    "execution": {
     "iopub.execute_input": "2022-11-19T06:58:23.402206Z",
     "iopub.status.busy": "2022-11-19T06:58:23.401412Z",
     "iopub.status.idle": "2022-11-19T06:58:24.514028Z",
     "shell.execute_reply": "2022-11-19T06:58:24.512851Z",
     "shell.execute_reply.started": "2022-11-19T06:58:23.402157Z"
    },
    "papermill": {
     "duration": 0.002344,
     "end_time": "2022-12-03T20:55:36.644171",
     "exception": false,
     "start_time": "2022-12-03T20:55:36.641827",
     "status": "completed"
    },
    "tags": []
   },
   "outputs": [],
   "source": []
  },
  {
   "cell_type": "code",
   "execution_count": null,
   "id": "b67846b3",
   "metadata": {
    "execution": {
     "iopub.execute_input": "2022-11-19T07:00:13.389729Z",
     "iopub.status.busy": "2022-11-19T07:00:13.389320Z",
     "iopub.status.idle": "2022-11-19T07:00:16.195057Z",
     "shell.execute_reply": "2022-11-19T07:00:16.193798Z",
     "shell.execute_reply.started": "2022-11-19T07:00:13.389694Z"
    },
    "papermill": {
     "duration": 0.002165,
     "end_time": "2022-12-03T20:55:36.648818",
     "exception": false,
     "start_time": "2022-12-03T20:55:36.646653",
     "status": "completed"
    },
    "tags": []
   },
   "outputs": [],
   "source": []
  },
  {
   "cell_type": "code",
   "execution_count": null,
   "id": "43b45471",
   "metadata": {
    "execution": {
     "iopub.execute_input": "2022-11-19T07:02:16.634432Z",
     "iopub.status.busy": "2022-11-19T07:02:16.633989Z",
     "iopub.status.idle": "2022-11-19T07:02:16.793252Z",
     "shell.execute_reply": "2022-11-19T07:02:16.792148Z",
     "shell.execute_reply.started": "2022-11-19T07:02:16.634396Z"
    },
    "papermill": {
     "duration": 0.002615,
     "end_time": "2022-12-03T20:55:36.654148",
     "exception": false,
     "start_time": "2022-12-03T20:55:36.651533",
     "status": "completed"
    },
    "tags": []
   },
   "outputs": [],
   "source": []
  }
 ],
 "metadata": {
  "kernelspec": {
   "display_name": "Python 3",
   "language": "python",
   "name": "python3"
  },
  "language_info": {
   "codemirror_mode": {
    "name": "ipython",
    "version": 3
   },
   "file_extension": ".py",
   "mimetype": "text/x-python",
   "name": "python",
   "nbconvert_exporter": "python",
   "pygments_lexer": "ipython3",
   "version": "3.7.12"
  },
  "papermill": {
   "default_parameters": {},
   "duration": 11.565421,
   "end_time": "2022-12-03T20:55:37.386688",
   "environment_variables": {},
   "exception": null,
   "input_path": "__notebook__.ipynb",
   "output_path": "__notebook__.ipynb",
   "parameters": {},
   "start_time": "2022-12-03T20:55:25.821267",
   "version": "2.3.4"
  }
 },
 "nbformat": 4,
 "nbformat_minor": 5
}
