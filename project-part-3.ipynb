{
 "cells": [
  {
   "cell_type": "markdown",
   "id": "4ef70f3d",
   "metadata": {
    "papermill": {
     "duration": 0.003162,
     "end_time": "2022-12-03T20:58:10.635762",
     "exception": false,
     "start_time": "2022-12-03T20:58:10.632600",
     "status": "completed"
    },
    "tags": []
   },
   "source": [
    "# Project Part 3\n",
    "\n",
    "[![Kaggle](https://kaggle.com/static/images/open-in-kaggle.svg)](https://kaggle.com/kernels/welcome?src=https://github.com/Denfire2/cs39aa_project/blob/main/project-part-3.ipynb)\n",
    "\n",
    "[![Open In Colab](https://colab.research.google.com/assets/colab-badge.svg)](https://github.com/Denfire2/cs39aa_project/blob/main/project-part-3.ipynb)"
   ]
  },
  {
   "cell_type": "markdown",
   "id": "46d8b760",
   "metadata": {
    "papermill": {
     "duration": 0.001737,
     "end_time": "2022-12-03T20:58:10.639808",
     "exception": false,
     "start_time": "2022-12-03T20:58:10.638071",
     "status": "completed"
    },
    "tags": []
   },
   "source": [
    "Project Part 3: A Deep Learning Model\n",
    "In this third and final part of the project you will train a deep learning model on your dataset. Note that the best way to do this will likely be to fine-tune an existing deep learning model such as GPT-2, BERT, etc. This is the same as what you will do in Assign 5, except that rather than using the Airline Tweet dataset you will be using your own dataset. Note that it is also possible to train a deep learning model from scratch with either PyTorch or TensorFlow/Keras, but that in the real world it will be more likely that you will want to leverage the cutting edge performance of a pre-trained deep learning model such as those available through huggingface. \n",
    "\n",
    "As with Parts 1 and 2, this should be done in a Jupyter notebook and you should add the notebook to the repository where Assign 1 and 2 are. When you are done, you will then get the URL of your project_part3.ipynb notebook in your GitHub repository, and submit that URL here in Canvas."
   ]
  },
  {
   "cell_type": "code",
   "execution_count": null,
   "id": "d103c133",
   "metadata": {
    "execution": {
     "iopub.execute_input": "2022-11-19T06:58:18.682121Z",
     "iopub.status.busy": "2022-11-19T06:58:18.681604Z",
     "iopub.status.idle": "2022-11-19T06:58:19.839363Z",
     "shell.execute_reply": "2022-11-19T06:58:19.838145Z",
     "shell.execute_reply.started": "2022-11-19T06:58:18.682019Z"
    },
    "papermill": {
     "duration": 0.001697,
     "end_time": "2022-12-03T20:58:10.643458",
     "exception": false,
     "start_time": "2022-12-03T20:58:10.641761",
     "status": "completed"
    },
    "tags": []
   },
   "outputs": [],
   "source": []
  },
  {
   "cell_type": "code",
   "execution_count": null,
   "id": "359c193e",
   "metadata": {
    "execution": {
     "iopub.execute_input": "2022-11-19T06:58:23.402206Z",
     "iopub.status.busy": "2022-11-19T06:58:23.401412Z",
     "iopub.status.idle": "2022-11-19T06:58:24.514028Z",
     "shell.execute_reply": "2022-11-19T06:58:24.512851Z",
     "shell.execute_reply.started": "2022-11-19T06:58:23.402157Z"
    },
    "papermill": {
     "duration": 0.001683,
     "end_time": "2022-12-03T20:58:10.647049",
     "exception": false,
     "start_time": "2022-12-03T20:58:10.645366",
     "status": "completed"
    },
    "tags": []
   },
   "outputs": [],
   "source": []
  },
  {
   "cell_type": "code",
   "execution_count": null,
   "id": "beb6b99b",
   "metadata": {
    "execution": {
     "iopub.execute_input": "2022-11-19T07:00:13.389729Z",
     "iopub.status.busy": "2022-11-19T07:00:13.389320Z",
     "iopub.status.idle": "2022-11-19T07:00:16.195057Z",
     "shell.execute_reply": "2022-11-19T07:00:16.193798Z",
     "shell.execute_reply.started": "2022-11-19T07:00:13.389694Z"
    },
    "papermill": {
     "duration": 0.001702,
     "end_time": "2022-12-03T20:58:10.650650",
     "exception": false,
     "start_time": "2022-12-03T20:58:10.648948",
     "status": "completed"
    },
    "tags": []
   },
   "outputs": [],
   "source": []
  },
  {
   "cell_type": "code",
   "execution_count": null,
   "id": "659945da",
   "metadata": {
    "execution": {
     "iopub.execute_input": "2022-11-19T07:02:16.634432Z",
     "iopub.status.busy": "2022-11-19T07:02:16.633989Z",
     "iopub.status.idle": "2022-11-19T07:02:16.793252Z",
     "shell.execute_reply": "2022-11-19T07:02:16.792148Z",
     "shell.execute_reply.started": "2022-11-19T07:02:16.634396Z"
    },
    "papermill": {
     "duration": 0.001749,
     "end_time": "2022-12-03T20:58:10.654334",
     "exception": false,
     "start_time": "2022-12-03T20:58:10.652585",
     "status": "completed"
    },
    "tags": []
   },
   "outputs": [],
   "source": []
  }
 ],
 "metadata": {
  "kernelspec": {
   "display_name": "Python 3",
   "language": "python",
   "name": "python3"
  },
  "language_info": {
   "codemirror_mode": {
    "name": "ipython",
    "version": 3
   },
   "file_extension": ".py",
   "mimetype": "text/x-python",
   "name": "python",
   "nbconvert_exporter": "python",
   "pygments_lexer": "ipython3",
   "version": "3.7.12"
  },
  "papermill": {
   "default_parameters": {},
   "duration": 11.022331,
   "end_time": "2022-12-03T20:58:14.006103",
   "environment_variables": {},
   "exception": null,
   "input_path": "__notebook__.ipynb",
   "output_path": "__notebook__.ipynb",
   "parameters": {},
   "start_time": "2022-12-03T20:58:02.983772",
   "version": "2.3.4"
  }
 },
 "nbformat": 4,
 "nbformat_minor": 5
}
