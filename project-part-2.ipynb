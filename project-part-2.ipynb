{
 "cells": [
  {
   "cell_type": "markdown",
   "id": "3aaaf71d",
   "metadata": {
    "papermill": {
     "duration": 0.004296,
     "end_time": "2022-11-19T07:03:35.843551",
     "exception": false,
     "start_time": "2022-11-19T07:03:35.839255",
     "status": "completed"
    },
    "tags": []
   },
   "source": [
    "# Project Part 2\n",
    "\n",
    "[![Kaggle](https://kaggle.com/static/images/open-in-kaggle.svg)](https://kaggle.com/kernels/welcome?src=https://github.com/sgeinitz/cs39aa_project/blob/main/project_part1.ipynb)\n",
    "\n",
    "[![Open In Colab](https://colab.research.google.com/assets/colab-badge.svg)](https://colab.research.google.com/github/sgeinitz/cs39aa_project/blob/main/project_part1.ipynb)"
   ]
  },
  {
   "cell_type": "markdown",
   "id": "06f5b3ae",
   "metadata": {
    "papermill": {
     "duration": 0.003563,
     "end_time": "2022-11-19T07:03:35.851075",
     "exception": false,
     "start_time": "2022-11-19T07:03:35.847512",
     "status": "completed"
    },
    "tags": []
   },
   "source": [
    "Project Part 2: A Baseline Model (or Bayesline ;) ) \n",
    "As we've said, any machine learning project Links to an external site.that carried out appropriately will include a quick-and-dirty baseline model. This is exactly what we did with our Airline Tweet dataset in notebook C Links to an external site., and what you did in Assign 3. \n",
    "\n",
    "This time you will use your dataset/problem that you described in Part 1 of the Project (the proposal and exploratory analysis). \n",
    "\n",
    "This should be done in a Jupyter notebook and you should add the notebook to the repository that you created in Project Part 1. When you are done, you will then get the URL of your project_part2.ipynb notebook in your GitHub repository, and submit that URL here in Canvas. "
   ]
  },
  {
   "cell_type": "code",
   "execution_count": 1,
   "id": "cbb0bf96",
   "metadata": {
    "execution": {
     "iopub.execute_input": "2022-11-19T07:03:35.861196Z",
     "iopub.status.busy": "2022-11-19T07:03:35.859482Z",
     "iopub.status.idle": "2022-11-19T07:03:37.904551Z",
     "shell.execute_reply": "2022-11-19T07:03:37.903197Z"
    },
    "papermill": {
     "duration": 2.053227,
     "end_time": "2022-11-19T07:03:37.907832",
     "exception": false,
     "start_time": "2022-11-19T07:03:35.854605",
     "status": "completed"
    },
    "tags": []
   },
   "outputs": [],
   "source": [
    "import pandas as pd\n",
    "import numpy as np\n",
    "import matplotlib.pyplot as plt\n",
    "import nltk \n",
    "from collections import Counter\n",
    "from nltk.tokenize import RegexpTokenizer\n",
    "from sklearn.feature_extraction.text import  TfidfVectorizer\n",
    "from sklearn.model_selection import train_test_split \n",
    "from sklearn import metrics\n",
    "from sklearn.metrics import accuracy_score\n",
    "from sklearn.linear_model import SGDClassifier"
   ]
  },
  {
   "cell_type": "markdown",
   "id": "c25f12c5",
   "metadata": {
    "papermill": {
     "duration": 0.002701,
     "end_time": "2022-11-19T07:03:37.913706",
     "exception": false,
     "start_time": "2022-11-19T07:03:37.911005",
     "status": "completed"
    },
    "tags": []
   },
   "source": [
    "First, we give a quick overview of the data"
   ]
  },
  {
   "cell_type": "code",
   "execution_count": 2,
   "id": "cb9b3ab0",
   "metadata": {
    "execution": {
     "iopub.execute_input": "2022-11-19T07:03:37.921421Z",
     "iopub.status.busy": "2022-11-19T07:03:37.920999Z",
     "iopub.status.idle": "2022-11-19T07:03:39.226133Z",
     "shell.execute_reply": "2022-11-19T07:03:39.224839Z"
    },
    "papermill": {
     "duration": 1.313111,
     "end_time": "2022-11-19T07:03:39.229778",
     "exception": false,
     "start_time": "2022-11-19T07:03:37.916667",
     "status": "completed"
    },
    "tags": []
   },
   "outputs": [
    {
     "data": {
      "text/html": [
       "<div>\n",
       "<style scoped>\n",
       "    .dataframe tbody tr th:only-of-type {\n",
       "        vertical-align: middle;\n",
       "    }\n",
       "\n",
       "    .dataframe tbody tr th {\n",
       "        vertical-align: top;\n",
       "    }\n",
       "\n",
       "    .dataframe thead th {\n",
       "        text-align: right;\n",
       "    }\n",
       "</style>\n",
       "<table border=\"1\" class=\"dataframe\">\n",
       "  <thead>\n",
       "    <tr style=\"text-align: right;\">\n",
       "      <th></th>\n",
       "      <th>title</th>\n",
       "      <th>description</th>\n",
       "      <th>fraudulent</th>\n",
       "    </tr>\n",
       "  </thead>\n",
       "  <tbody>\n",
       "    <tr>\n",
       "      <th>0</th>\n",
       "      <td>Marketing Intern</td>\n",
       "      <td>Food52, a fast-growing, James Beard Award-winn...</td>\n",
       "      <td>0</td>\n",
       "    </tr>\n",
       "    <tr>\n",
       "      <th>1</th>\n",
       "      <td>Customer Service - Cloud Video Production</td>\n",
       "      <td>Organised - Focused - Vibrant - Awesome!Do you...</td>\n",
       "      <td>0</td>\n",
       "    </tr>\n",
       "    <tr>\n",
       "      <th>2</th>\n",
       "      <td>Commissioning Machinery Assistant (CMA)</td>\n",
       "      <td>Our client, located in Houston, is actively se...</td>\n",
       "      <td>0</td>\n",
       "    </tr>\n",
       "    <tr>\n",
       "      <th>3</th>\n",
       "      <td>Account Executive - Washington DC</td>\n",
       "      <td>THE COMPANY: ESRI – Environmental Systems Rese...</td>\n",
       "      <td>0</td>\n",
       "    </tr>\n",
       "    <tr>\n",
       "      <th>4</th>\n",
       "      <td>Bill Review Manager</td>\n",
       "      <td>JOB TITLE: Itemization Review ManagerLOCATION:...</td>\n",
       "      <td>0</td>\n",
       "    </tr>\n",
       "    <tr>\n",
       "      <th>...</th>\n",
       "      <td>...</td>\n",
       "      <td>...</td>\n",
       "      <td>...</td>\n",
       "    </tr>\n",
       "    <tr>\n",
       "      <th>17875</th>\n",
       "      <td>Account Director - Distribution</td>\n",
       "      <td>Just in case this is the first time you’ve vis...</td>\n",
       "      <td>0</td>\n",
       "    </tr>\n",
       "    <tr>\n",
       "      <th>17876</th>\n",
       "      <td>Payroll Accountant</td>\n",
       "      <td>The Payroll Accountant will focus primarily on...</td>\n",
       "      <td>0</td>\n",
       "    </tr>\n",
       "    <tr>\n",
       "      <th>17877</th>\n",
       "      <td>Project Cost Control Staff Engineer - Cost Con...</td>\n",
       "      <td>Experienced Project Cost Control Staff Enginee...</td>\n",
       "      <td>0</td>\n",
       "    </tr>\n",
       "    <tr>\n",
       "      <th>17878</th>\n",
       "      <td>Graphic Designer</td>\n",
       "      <td>Nemsia Studios is looking for an experienced v...</td>\n",
       "      <td>0</td>\n",
       "    </tr>\n",
       "    <tr>\n",
       "      <th>17879</th>\n",
       "      <td>Web Application Developers</td>\n",
       "      <td>Who are we?Vend is an award winning web based ...</td>\n",
       "      <td>0</td>\n",
       "    </tr>\n",
       "  </tbody>\n",
       "</table>\n",
       "<p>17879 rows × 3 columns</p>\n",
       "</div>"
      ],
      "text/plain": [
       "                                                   title  \\\n",
       "0                                       Marketing Intern   \n",
       "1              Customer Service - Cloud Video Production   \n",
       "2                Commissioning Machinery Assistant (CMA)   \n",
       "3                      Account Executive - Washington DC   \n",
       "4                                    Bill Review Manager   \n",
       "...                                                  ...   \n",
       "17875                   Account Director - Distribution    \n",
       "17876                                 Payroll Accountant   \n",
       "17877  Project Cost Control Staff Engineer - Cost Con...   \n",
       "17878                                   Graphic Designer   \n",
       "17879                         Web Application Developers   \n",
       "\n",
       "                                             description  fraudulent  \n",
       "0      Food52, a fast-growing, James Beard Award-winn...           0  \n",
       "1      Organised - Focused - Vibrant - Awesome!Do you...           0  \n",
       "2      Our client, located in Houston, is actively se...           0  \n",
       "3      THE COMPANY: ESRI – Environmental Systems Rese...           0  \n",
       "4      JOB TITLE: Itemization Review ManagerLOCATION:...           0  \n",
       "...                                                  ...         ...  \n",
       "17875  Just in case this is the first time you’ve vis...           0  \n",
       "17876  The Payroll Accountant will focus primarily on...           0  \n",
       "17877  Experienced Project Cost Control Staff Enginee...           0  \n",
       "17878  Nemsia Studios is looking for an experienced v...           0  \n",
       "17879  Who are we?Vend is an award winning web based ...           0  \n",
       "\n",
       "[17879 rows x 3 columns]"
      ]
     },
     "execution_count": 2,
     "metadata": {},
     "output_type": "execute_result"
    }
   ],
   "source": [
    "df = pd.read_csv('../input/real-or-fake-jobs/fake_job_postings.csv', usecols=['title','description','fraudulent'])\n",
    "df.dropna(inplace=True)\n",
    "df"
   ]
  },
  {
   "cell_type": "markdown",
   "id": "caa0b9a2",
   "metadata": {
    "papermill": {
     "duration": 0.003083,
     "end_time": "2022-11-19T07:03:39.236469",
     "exception": false,
     "start_time": "2022-11-19T07:03:39.233386",
     "status": "completed"
    },
    "tags": []
   },
   "source": [
    "Second, we need to split the data into training and testing and initialize the vectorizer "
   ]
  },
  {
   "cell_type": "code",
   "execution_count": 3,
   "id": "a8f528f6",
   "metadata": {
    "execution": {
     "iopub.execute_input": "2022-11-19T07:03:39.246326Z",
     "iopub.status.busy": "2022-11-19T07:03:39.245011Z",
     "iopub.status.idle": "2022-11-19T07:03:42.201567Z",
     "shell.execute_reply": "2022-11-19T07:03:42.200269Z"
    },
    "papermill": {
     "duration": 2.96463,
     "end_time": "2022-11-19T07:03:42.204824",
     "exception": false,
     "start_time": "2022-11-19T07:03:39.240194",
     "status": "completed"
    },
    "tags": []
   },
   "outputs": [],
   "source": [
    "dataDesc = df['description'].values.tolist() \n",
    "dataClass = df['fraudulent'].values.tolist() \n",
    "\n",
    "x_train, x_test, y_train, y_test = train_test_split(dataDesc, dataClass, test_size = 0.35, random_state = 42)\n",
    "\n",
    "tfidf_vectorizer = TfidfVectorizer(min_df=2)\n",
    "\n",
    "x_train_tfidf = tfidf_vectorizer.fit_transform(x_train)\n",
    "x_test_tfidf = tfidf_vectorizer.transform(x_test)"
   ]
  },
  {
   "cell_type": "markdown",
   "id": "59aeba02",
   "metadata": {
    "papermill": {
     "duration": 0.003103,
     "end_time": "2022-11-19T07:03:42.211659",
     "exception": false,
     "start_time": "2022-11-19T07:03:42.208556",
     "status": "completed"
    },
    "tags": []
   },
   "source": [
    "Finally we make the model itself and compare test/train scores to see if the model is overfitting/underfitting.\n",
    "\n",
    "Note: for the hyper peramiters: multiple different configurations were tried. max_iter was tried at 100, 250, 500, 800, and 1000 after 500 the data did not see any noticable increase in the values. alpha was tried at .01, .001, .0001, and .00001 (traning score was 99% on this value). changed the loss from 'hinge' to 'log'. and finally tested with early stopping. "
   ]
  },
  {
   "cell_type": "code",
   "execution_count": 4,
   "id": "8e9a2859",
   "metadata": {
    "execution": {
     "iopub.execute_input": "2022-11-19T07:03:42.220865Z",
     "iopub.status.busy": "2022-11-19T07:03:42.220398Z",
     "iopub.status.idle": "2022-11-19T07:03:42.387430Z",
     "shell.execute_reply": "2022-11-19T07:03:42.385676Z"
    },
    "papermill": {
     "duration": 0.174894,
     "end_time": "2022-11-19T07:03:42.390240",
     "exception": false,
     "start_time": "2022-11-19T07:03:42.215346",
     "status": "completed"
    },
    "tags": []
   },
   "outputs": [
    {
     "name": "stdout",
     "output_type": "stream",
     "text": [
      "Logistic Regression w/SGD training dataset accuracy: 0.9515\n",
      "Logistic Regression w/SGD test dataset accuracy: 0.9519\n"
     ]
    }
   ],
   "source": [
    "lrsgd = SGDClassifier(loss=\"log\", max_iter=500, alpha=0.001, random_state=42) \n",
    "lrsgd_clf = lrsgd.fit(x_train_tfidf, y_train) \n",
    "pred_test_lrsgd = lrsgd_clf.predict(x_test_tfidf)\n",
    "pred_train_lrsgd = lrsgd_clf.predict(x_train_tfidf)\n",
    "\n",
    "print('Logistic Regression w/SGD training dataset accuracy: {0:0.4f}'. format(metrics.accuracy_score(y_train, pred_train_lrsgd)))\n",
    "print('Logistic Regression w/SGD test dataset accuracy: {0:0.4f}'.format(metrics.accuracy_score(y_test, pred_test_lrsgd)))"
   ]
  }
 ],
 "metadata": {
  "kernelspec": {
   "display_name": "Python 3",
   "language": "python",
   "name": "python3"
  },
  "language_info": {
   "codemirror_mode": {
    "name": "ipython",
    "version": 3
   },
   "file_extension": ".py",
   "mimetype": "text/x-python",
   "name": "python",
   "nbconvert_exporter": "python",
   "pygments_lexer": "ipython3",
   "version": "3.7.12"
  },
  "papermill": {
   "default_parameters": {},
   "duration": 17.245836,
   "end_time": "2022-11-19T07:03:43.218365",
   "environment_variables": {},
   "exception": null,
   "input_path": "__notebook__.ipynb",
   "output_path": "__notebook__.ipynb",
   "parameters": {},
   "start_time": "2022-11-19T07:03:25.972529",
   "version": "2.3.4"
  }
 },
 "nbformat": 4,
 "nbformat_minor": 5
}
